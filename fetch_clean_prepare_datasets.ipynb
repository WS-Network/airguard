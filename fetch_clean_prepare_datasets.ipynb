{
 "cells": [
  {
   "cell_type": "markdown",
   "id": "8b81aaa2",
   "metadata": {},
   "source": [
    "# Fetch, Clean, and Prepare Train-Ready Datasets for AI Tasks in Networking\n",
    "This notebook provides a step-by-step guide to fetch, clean, and prepare datasets for AI tasks in networking. It includes downloading datasets, normalizing formats, and creating training-ready data."
   ]
  },
  {
   "cell_type": "markdown",
   "id": "665c2bcc",
   "metadata": {},
   "source": [
    "## Setup Repository and Paths\n",
    "Set up the repository structure and paths for datasets and tools. Use WSL commands to create directories and verify the structure."
   ]
  },
  {
   "cell_type": "code",
   "execution_count": null,
   "id": "f56f557f",
   "metadata": {},
   "outputs": [],
   "source": [
    "# Create directories for datasets and tools\n",
    "import os\n",
    "\n",
    "base_dir = \"datasets\"\n",
    "sub_dirs = [\"topologies\", \"traffic\", \"telemetry\", \"configs\"]\n",
    "\n",
    "for sub_dir in sub_dirs:\n",
    "    path = os.path.join(base_dir, sub_dir)\n",
    "    os.makedirs(path, exist_ok=True)\n",
    "    print(f\"Created directory: {path}\")"
   ]
  },
  {
   "cell_type": "markdown",
   "id": "946f73e6",
   "metadata": {},
   "source": [
    "## Pull Base Datasets\n",
    "Download and organize datasets such as Topology Zoo, SNDlib, MAWI, CIC-IDS2018, and telemetry samples. Include commands to fetch and unzip files."
   ]
  },
  {
   "cell_type": "code",
   "execution_count": null,
   "id": "031be2f7",
   "metadata": {},
   "outputs": [],
   "source": [
    "# Example: Download Topology Zoo dataset\n",
    "import requests\n",
    "import zipfile\n",
    "import io\n",
    "\n",
    "url = \"http://www.topology-zoo.org/files/TopologyZoo2010.zip\"\n",
    "output_dir = \"datasets/topologies\"\n",
    "\n",
    "response = requests.get(url)\n",
    "if response.status_code == 200:\n",
    "    with zipfile.ZipFile(io.BytesIO(response.content)) as z:\n",
    "        z.extractall(output_dir)\n",
    "    print(f\"Downloaded and extracted Topology Zoo dataset to {output_dir}\")\n",
    "else:\n",
    "    print(f\"Failed to download dataset. Status code: {response.status_code}\")"
   ]
  },
  {
   "cell_type": "markdown",
   "id": "db2bb6e4",
   "metadata": {},
   "source": [
    "## Download Topology Zoo\n",
    "Download the Topology Zoo dataset, unzip it, and organize it under the `datasets/topologies` directory."
   ]
  },
  {
   "cell_type": "code",
   "execution_count": null,
   "id": "ddbc816f",
   "metadata": {},
   "outputs": [],
   "source": [
    "# Verify Topology Zoo dataset structure\n",
    "import os\n",
    "\n",
    "topology_zoo_dir = \"datasets/topologies\"\n",
    "files = os.listdir(topology_zoo_dir)\n",
    "print(f\"Files in Topology Zoo directory: {files}\")"
   ]
  },
  {
   "cell_type": "markdown",
   "id": "b61fc3b9",
   "metadata": {},
   "source": [
    "## Download SNDlib\n",
    "Fetch SNDlib archives, unzip them, and store them in the `datasets/topologies/sndlib` directory."
   ]
  },
  {
   "cell_type": "code",
   "execution_count": null,
   "id": "22f74573",
   "metadata": {},
   "outputs": [],
   "source": [
    "# Example: Download SNDlib dataset\n",
    "sndlib_url = \"http://sndlib.zib.de/download/sndlib_xml_2010-10-01.zip\"\n",
    "sndlib_dir = \"datasets/topologies/sndlib\"\n",
    "\n",
    "response = requests.get(sndlib_url)\n",
    "if response.status_code == 200:\n",
    "    with zipfile.ZipFile(io.BytesIO(response.content)) as z:\n",
    "        z.extractall(sndlib_dir)\n",
    "    print(f\"Downloaded and extracted SNDlib dataset to {sndlib_dir}\")\n",
    "else:\n",
    "    print(f\"Failed to download SNDlib dataset. Status code: {response.status_code}\")"
   ]
  },
  {
   "cell_type": "markdown",
   "id": "a8b01830",
   "metadata": {},
   "source": [
    "## Download Traffic Datasets\n",
    "Download traffic datasets such as MAWI and CIC-IDS2018. Include optional steps for CAIDA datasets."
   ]
  },
  {
   "cell_type": "code",
   "execution_count": null,
   "id": "0eb3ff76",
   "metadata": {},
   "outputs": [],
   "source": [
    "# Placeholder for downloading MAWI and CIC-IDS2018 datasets\n",
    "# Add specific download and extraction logic here\n",
    "print(\"Downloading MAWI and CIC-IDS2018 datasets...\")"
   ]
  },
  {
   "cell_type": "markdown",
   "id": "8bdbb3eb",
   "metadata": {},
   "source": [
    "## Clone Telemetry Samples\n",
    "Clone the Cisco Innovation Edge telemetry repository into the `datasets/telemetry` directory."
   ]
  },
  {
   "cell_type": "code",
   "execution_count": null,
   "id": "5e81b984",
   "metadata": {},
   "outputs": [],
   "source": [
    "# Clone telemetry samples repository\n",
    "import subprocess\n",
    "\n",
    "telemetry_repo_url = \"https://github.com/CiscoDevNet/telemetry-sample-code.git\"\n",
    "telemetry_dir = \"datasets/telemetry\"\n",
    "\n",
    "subprocess.run([\"git\", \"clone\", telemetry_repo_url, telemetry_dir], check=True)\n",
    "print(f\"Cloned telemetry samples to {telemetry_dir}\")"
   ]
  },
  {
   "cell_type": "markdown",
   "id": "1f99752e",
   "metadata": {},
   "source": [
    "## Fetch Config Schemas and Examples\n",
    "Clone OpenConfig models and fetch FRR example configurations. Organize them under the `datasets/configs` directory."
   ]
  },
  {
   "cell_type": "code",
   "execution_count": null,
   "id": "36ff0175",
   "metadata": {},
   "outputs": [],
   "source": [
    "# Clone OpenConfig models\n",
    "openconfig_repo_url = \"https://github.com/openconfig/public.git\"\n",
    "configs_dir = \"datasets/configs/openconfig\"\n",
    "\n",
    "subprocess.run([\"git\", \"clone\", openconfig_repo_url, configs_dir], check=True)\n",
    "print(f\"Cloned OpenConfig models to {configs_dir}\")"
   ]
  },
  {
   "cell_type": "markdown",
   "id": "0992235e",
   "metadata": {},
   "source": [
    "## Create Dataset Catalog\n",
    "Create a CSV catalog to track dataset metadata, including source, license, and notes."
   ]
  },
  {
   "cell_type": "code",
   "execution_count": null,
   "id": "091c8c70",
   "metadata": {},
   "outputs": [],
   "source": [
    "# Create a dataset catalog\n",
    "import pandas as pd\n",
    "\n",
    "catalog_data = [\n",
    "    {\"Dataset\": \"Topology Zoo\", \"Source\": \"http://www.topology-zoo.org\", \"License\": \"Unknown\", \"Notes\": \"Network topologies\"},\n",
    "    {\"Dataset\": \"SNDlib\", \"Source\": \"http://sndlib.zib.de\", \"License\": \"Unknown\", \"Notes\": \"Network design library\"},\n",
    "    {\"Dataset\": \"MAWI\", \"Source\": \"http://mawi.wide.ad.jp\", \"License\": \"Unknown\", \"Notes\": \"Traffic traces\"},\n",
    "    {\"Dataset\": \"CIC-IDS2018\", \"Source\": \"https://www.unb.ca/cic/datasets/ids-2018.html\", \"License\": \"Unknown\", \"Notes\": \"Intrusion detection dataset\"}\n",
    "]\n",
    "\n",
    "catalog_df = pd.DataFrame(catalog_data)\n",
    "catalog_path = \"datasets/dataset_catalog.csv\"\n",
    "catalog_df.to_csv(catalog_path, index=False)\n",
    "print(f\"Dataset catalog saved to {catalog_path}\")"
   ]
  }
 ],
 "metadata": {
  "language_info": {
   "name": "python"
  }
 },
 "nbformat": 4,
 "nbformat_minor": 5
}
